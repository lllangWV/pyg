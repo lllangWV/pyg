{
 "cells": [
  {
   "cell_type": "code",
   "execution_count": 10,
   "metadata": {},
   "outputs": [],
   "source": [
    "from sklearn.linear_model import RANSACRegressor\n",
    "import open3d as o3d\n",
    "import copy\n",
    "import os\n",
    "import json\n",
    "from glob import glob\n",
    "import torch\n",
    "from my_lib import ROOT\n",
    "import my_lib\n",
    "import scipy\n",
    "from torch_geometric.data import Data\n",
    "from scipy.stats import wasserstein_distance\n",
    "import numpy as np\n",
    "import matplotlib.pylab as pl\n",
    "import matplotlib.pyplot as plt\n",
    "from mpl_toolkits.mplot3d import Axes3D  # noqa\n",
    "import ot\n",
    "\n"
   ]
  },
  {
   "cell_type": "code",
   "execution_count": 11,
   "metadata": {},
   "outputs": [
    {
     "name": "stdout",
     "output_type": "stream",
     "text": [
      "C:\\Users\\lllang\\Desktop\\side_projects\\pyg\\data\\raw\\test\\cube-like_1.json\n",
      "C:\\Users\\lllang\\Desktop\\side_projects\\pyg\\data\\raw\\test\\cube-like_2.json\n",
      "C:\\Users\\lllang\\Desktop\\side_projects\\pyg\\data\\raw\\test\\cube.json\n",
      "C:\\Users\\lllang\\Desktop\\side_projects\\pyg\\data\\raw\\test\\dod-like.json\n",
      "C:\\Users\\lllang\\Desktop\\side_projects\\pyg\\data\\raw\\test\\dod.json\n",
      "C:\\Users\\lllang\\Desktop\\side_projects\\pyg\\data\\raw\\test\\oct-like.json\n",
      "C:\\Users\\lllang\\Desktop\\side_projects\\pyg\\data\\raw\\test\\oct.json\n",
      "C:\\Users\\lllang\\Desktop\\side_projects\\pyg\\data\\raw\\test\\rotated_tetra.json\n",
      "C:\\Users\\lllang\\Desktop\\side_projects\\pyg\\data\\raw\\test\\scaled_tetra.json\n",
      "C:\\Users\\lllang\\Desktop\\side_projects\\pyg\\data\\raw\\test\\tetra-like.json\n",
      "C:\\Users\\lllang\\Desktop\\side_projects\\pyg\\data\\raw\\test\\tetra.json\n",
      "dict_keys(['cube-like_1', 'cube-like_2', 'cube', 'dod-like', 'dod', 'oct-like', 'oct', 'rotated_tetra', 'scaled_tetra', 'tetra-like', 'tetra'])\n"
     ]
    }
   ],
   "source": [
    "data_dir=os.path.join(ROOT,'data','raw','test')\n",
    "# with open(data_dir) as f:\n",
    "#     data = json.load(f)\n",
    "data={}\n",
    "files=glob(data_dir + '/*.json')\n",
    "for file in files:\n",
    "    print(file)\n",
    "    filename=file.split(os.sep)[-1].split('.')[0]\n",
    "    with open(file,'r') as f:\n",
    "        tmp = json.load(f)\n",
    "\n",
    "    data.update({filename:tmp})\n",
    "\n",
    "print(data.keys())\n"
   ]
  },
  {
   "cell_type": "markdown",
   "metadata": {},
   "source": [
    "# Visualize poly"
   ]
  },
  {
   "cell_type": "code",
   "execution_count": 12,
   "metadata": {},
   "outputs": [],
   "source": [
    "import pyvista as pv\n",
    "# pv.set_jupyter_backend('panel')  \n",
    "# pv.set_jupyter_backend('ipyvtklink')\n",
    "# pv.set_jupyter_backend('ipygany')\n",
    "pv.set_jupyter_backend('trame')  \n",
    "# pv.set_jupyter_backend(None)  \n",
    "class PolyPlotter:\n",
    "    def __init__(self):\n",
    "        self.p=pv.Plotter()\n",
    "\n",
    "    def add_poly(self,vertices,**kwargs):\n",
    "        self.p.add_mesh(vertices,**kwargs)\n",
    "\n",
    "    def show(self):\n",
    "        self.p.show()\n",
    "        # self.p.show(jupyter_backend='client')"
   ]
  },
  {
   "cell_type": "code",
   "execution_count": 13,
   "metadata": {},
   "outputs": [
    {
     "data": {
      "text/plain": [
       "<CubeAxesActor(0x000002491F04AA40) at 0x000002491C0E3280>"
      ]
     },
     "execution_count": 13,
     "metadata": {},
     "output_type": "execute_result"
    }
   ],
   "source": [
    "plotter=PolyPlotter()\n",
    "plotter.add_poly(vertices=np.array(data['cube']['vertices']), render_points_as_spheres=True,color='red')\n",
    "plotter.add_poly(vertices=my_lib.math.rot_z(np.array(data['cube']['vertices']),45 ) , render_points_as_spheres=True,color='blue')\n",
    "plotter.p.show_axes()\n",
    "plotter.p.show_grid()\n",
    "# plotter.p.show_bounds(\n",
    "#     grid='front',\n",
    "#     location='outer',\n",
    "#     all_edges=True,\n",
    "# )"
   ]
  },
  {
   "cell_type": "code",
   "execution_count": 14,
   "metadata": {},
   "outputs": [
    {
     "data": {
      "application/vnd.jupyter.widget-view+json": {
       "model_id": "02c6d018880f4c5bafbe5479fdb68fb8",
       "version_major": 2,
       "version_minor": 0
      },
      "text/plain": [
       "Widget(value=\"<iframe src='http://localhost:53526/index.html?ui=P_0x2492bd7beb0_1&reconnect=auto' style='width…"
      ]
     },
     "metadata": {},
     "output_type": "display_data"
    }
   ],
   "source": [
    "plotter.show()"
   ]
  },
  {
   "cell_type": "markdown",
   "metadata": {},
   "source": [
    "# Defining Useful functions"
   ]
  },
  {
   "cell_type": "code",
   "execution_count": 15,
   "metadata": {},
   "outputs": [],
   "source": [
    "def plot_similarity_matrix( similarity_matrix, labels, add_values=True, filename=None):\n",
    "    fig, ax = plt.subplots()\n",
    "    cax = ax.matshow(similarity_matrix, cmap='coolwarm')  # Change the color map here\n",
    "    fig.colorbar(cax)\n",
    "\n",
    "    plt.xticks(range(len(labels)), labels, rotation=90)\n",
    "    plt.yticks(range(len(labels)), labels)\n",
    "\n",
    "    fig.suptitle('Similarity matrix')\n",
    "\n",
    "    if add_values:\n",
    "        for i in range(similarity_matrix.shape[0]):\n",
    "            for j in range(similarity_matrix.shape[1]):\n",
    "                ax.text(j, i, format(similarity_matrix[i, j], \".2f\"), \n",
    "                        ha=\"center\", va=\"center\", \n",
    "                        color=\"w\" if np.abs(similarity_matrix[i, j]) > 0.5 else \"black\")\n",
    "    \n",
    "    plt.tight_layout()\n",
    "    if filename:\n",
    "        plt.savefig(filename)\n",
    "    else:\n",
    "        plt.show()"
   ]
  },
  {
   "cell_type": "code",
   "execution_count": 16,
   "metadata": {},
   "outputs": [],
   "source": [
    "def ransac(x, y,**kwargs):\n",
    "    ransac = RANSACRegressor(**kwargs)\n",
    "    ransac.fit(x, y)\n",
    "    return ransac.estimator_\n"
   ]
  },
  {
   "cell_type": "code",
   "execution_count": 17,
   "metadata": {},
   "outputs": [],
   "source": [
    "dgm1 = np.array(data['cube']['vertices'])\n",
    "dgm2 = np.array(data['tetra']['vertices'])\n",
    "rotated_dgm1=my_lib.math.rot_z(dgm1,45)"
   ]
  },
  {
   "cell_type": "code",
   "execution_count": 18,
   "metadata": {},
   "outputs": [
    {
     "ename": "ValueError",
     "evalue": "Found input variables with inconsistent numbers of samples: [8, 4]",
     "output_type": "error",
     "traceback": [
      "\u001b[1;31m---------------------------------------------------------------------------\u001b[0m",
      "\u001b[1;31mValueError\u001b[0m                                Traceback (most recent call last)",
      "Cell \u001b[1;32mIn[18], line 5\u001b[0m\n\u001b[0;32m      1\u001b[0m reg\u001b[39m=\u001b[39mransac(dgm1, rotated_dgm1)\n\u001b[0;32m      2\u001b[0m reg\u001b[39m.\u001b[39mscore(dgm1, rotated_dgm1)\n\u001b[1;32m----> 5\u001b[0m reg\u001b[39m=\u001b[39mransac(dgm1, dgm2)\n\u001b[0;32m      6\u001b[0m reg\u001b[39m.\u001b[39mscore(dgm1, dgm2)\n",
      "Cell \u001b[1;32mIn[16], line 3\u001b[0m, in \u001b[0;36mransac\u001b[1;34m(x, y, **kwargs)\u001b[0m\n\u001b[0;32m      1\u001b[0m \u001b[39mdef\u001b[39;00m \u001b[39mransac\u001b[39m(x, y,\u001b[39m*\u001b[39m\u001b[39m*\u001b[39mkwargs):\n\u001b[0;32m      2\u001b[0m     ransac \u001b[39m=\u001b[39m RANSACRegressor(\u001b[39m*\u001b[39m\u001b[39m*\u001b[39mkwargs)\n\u001b[1;32m----> 3\u001b[0m     ransac\u001b[39m.\u001b[39;49mfit(x, y)\n\u001b[0;32m      4\u001b[0m     \u001b[39mreturn\u001b[39;00m ransac\u001b[39m.\u001b[39mestimator_\n",
      "File \u001b[1;32mc:\\Users\\lllang\\Desktop\\side_projects\\pyg\\venv\\lib\\site-packages\\sklearn\\base.py:1151\u001b[0m, in \u001b[0;36m_fit_context.<locals>.decorator.<locals>.wrapper\u001b[1;34m(estimator, *args, **kwargs)\u001b[0m\n\u001b[0;32m   1144\u001b[0m     estimator\u001b[39m.\u001b[39m_validate_params()\n\u001b[0;32m   1146\u001b[0m \u001b[39mwith\u001b[39;00m config_context(\n\u001b[0;32m   1147\u001b[0m     skip_parameter_validation\u001b[39m=\u001b[39m(\n\u001b[0;32m   1148\u001b[0m         prefer_skip_nested_validation \u001b[39mor\u001b[39;00m global_skip_validation\n\u001b[0;32m   1149\u001b[0m     )\n\u001b[0;32m   1150\u001b[0m ):\n\u001b[1;32m-> 1151\u001b[0m     \u001b[39mreturn\u001b[39;00m fit_method(estimator, \u001b[39m*\u001b[39;49margs, \u001b[39m*\u001b[39;49m\u001b[39m*\u001b[39;49mkwargs)\n",
      "File \u001b[1;32mc:\\Users\\lllang\\Desktop\\side_projects\\pyg\\venv\\lib\\site-packages\\sklearn\\linear_model\\_ransac.py:338\u001b[0m, in \u001b[0;36mRANSACRegressor.fit\u001b[1;34m(self, X, y, sample_weight)\u001b[0m\n\u001b[0;32m    334\u001b[0m check_y_params \u001b[39m=\u001b[39m \u001b[39mdict\u001b[39m(ensure_2d\u001b[39m=\u001b[39m\u001b[39mFalse\u001b[39;00m)\n\u001b[0;32m    335\u001b[0m X, y \u001b[39m=\u001b[39m \u001b[39mself\u001b[39m\u001b[39m.\u001b[39m_validate_data(\n\u001b[0;32m    336\u001b[0m     X, y, validate_separately\u001b[39m=\u001b[39m(check_X_params, check_y_params)\n\u001b[0;32m    337\u001b[0m )\n\u001b[1;32m--> 338\u001b[0m check_consistent_length(X, y)\n\u001b[0;32m    340\u001b[0m \u001b[39mif\u001b[39;00m \u001b[39mself\u001b[39m\u001b[39m.\u001b[39mestimator \u001b[39mis\u001b[39;00m \u001b[39mnot\u001b[39;00m \u001b[39mNone\u001b[39;00m:\n\u001b[0;32m    341\u001b[0m     estimator \u001b[39m=\u001b[39m clone(\u001b[39mself\u001b[39m\u001b[39m.\u001b[39mestimator)\n",
      "File \u001b[1;32mc:\\Users\\lllang\\Desktop\\side_projects\\pyg\\venv\\lib\\site-packages\\sklearn\\utils\\validation.py:409\u001b[0m, in \u001b[0;36mcheck_consistent_length\u001b[1;34m(*arrays)\u001b[0m\n\u001b[0;32m    407\u001b[0m uniques \u001b[39m=\u001b[39m np\u001b[39m.\u001b[39munique(lengths)\n\u001b[0;32m    408\u001b[0m \u001b[39mif\u001b[39;00m \u001b[39mlen\u001b[39m(uniques) \u001b[39m>\u001b[39m \u001b[39m1\u001b[39m:\n\u001b[1;32m--> 409\u001b[0m     \u001b[39mraise\u001b[39;00m \u001b[39mValueError\u001b[39;00m(\n\u001b[0;32m    410\u001b[0m         \u001b[39m\"\u001b[39m\u001b[39mFound input variables with inconsistent numbers of samples: \u001b[39m\u001b[39m%r\u001b[39;00m\u001b[39m\"\u001b[39m\n\u001b[0;32m    411\u001b[0m         \u001b[39m%\u001b[39m [\u001b[39mint\u001b[39m(l) \u001b[39mfor\u001b[39;00m l \u001b[39min\u001b[39;00m lengths]\n\u001b[0;32m    412\u001b[0m     )\n",
      "\u001b[1;31mValueError\u001b[0m: Found input variables with inconsistent numbers of samples: [8, 4]"
     ]
    }
   ],
   "source": [
    "reg=ransac(dgm1, rotated_dgm1)\n",
    "reg.score(dgm1, rotated_dgm1)\n",
    "\n",
    "\n",
    "reg=ransac(dgm1, dgm2)\n",
    "reg.score(dgm1, dgm2)"
   ]
  },
  {
   "cell_type": "markdown",
   "metadata": {},
   "source": [
    "# Procrustes analysis\n",
    "\n",
    "a similarity test for two data sets.\n",
    "\n",
    "Each input matrix is a set of points or vectors (the rows of the matrix). The dimension of the space is the number of columns of each matrix. Given two identically sized matrices, procrustes standardizes both such that:\n",
    "\n",
    ".\n",
    "\n",
    "Both sets of points are centered around the origin.\n",
    "\n",
    "Procrustes ([1], [2]) then applies the optimal transform to the second matrix (including scaling/dilation, rotations, and reflections) to minimize \n",
    ", or the sum of the squares of the pointwise differences between the two input datasets.\n",
    "\n",
    "This function was not designed to handle datasets with different numbers of datapoints (rows). If two data sets have different dimensionality (different number of columns), simply add columns of zeros to the smaller of the two."
   ]
  },
  {
   "cell_type": "code",
   "execution_count": null,
   "metadata": {},
   "outputs": [],
   "source": [
    "# def equalize_point_clouds(pc1, pc2):\n",
    "#     num_points_pc1 = pc1.shape[0]\n",
    "#     num_points_pc2 = pc2.shape[0]\n",
    "\n",
    "#     if num_points_pc1 < num_points_pc2:\n",
    "#         points_to_add = num_points_pc2 - num_points_pc1\n",
    "#         pc1 = np.vstack([pc1, np.zeros((points_to_add, pc1.shape[1]))])\n",
    "#     elif num_points_pc2 < num_points_pc1:\n",
    "#         points_to_add = num_points_pc1 - num_points_pc2\n",
    "#         pc2 = np.vstack([pc2, np.zeros((points_to_add, pc2.shape[1]))])\n",
    "\n",
    "#     return pc1, pc2\n",
    "def equalize_point_clouds(pc1, pc2):\n",
    "    num_points_pc1 = pc1.shape[0]\n",
    "    num_points_pc2 = pc2.shape[0]\n",
    "\n",
    "    if num_points_pc1 < num_points_pc2:\n",
    "        points_to_add = num_points_pc2 - num_points_pc1\n",
    "        pc1 = np.vstack([pc1, np.repeat(pc1[-1, :][np.newaxis, :], points_to_add, axis=0)])\n",
    "    elif num_points_pc2 < num_points_pc1:\n",
    "        points_to_add = num_points_pc1 - num_points_pc2\n",
    "        pc2 = np.vstack([pc2, np.repeat(pc2[-1, :][np.newaxis, :], points_to_add, axis=0)])\n",
    "\n",
    "    return pc1, pc2"
   ]
  },
  {
   "cell_type": "code",
   "execution_count": null,
   "metadata": {},
   "outputs": [
    {
     "name": "stdout",
     "output_type": "stream",
     "text": [
      "(8, 3) (4, 3)\n",
      "(8, 3) (8, 3)\n"
     ]
    }
   ],
   "source": [
    "dgm1 = np.array(data['cube']['vertices'])\n",
    "dgm2 = np.array(data['tetra']['vertices'])\n",
    "rotated_dgm1=my_lib.math.rot_z(dgm1,45)\n",
    "print(dgm1.shape, dgm2.shape)\n",
    "pc1, pc2= equalize_point_clouds(dgm1, dgm2)\n",
    "print(pc1.shape, pc2.shape)"
   ]
  },
  {
   "cell_type": "code",
   "execution_count": null,
   "metadata": {},
   "outputs": [
    {
     "name": "stdout",
     "output_type": "stream",
     "text": [
      "0.5592974013692504\n",
      "8.936314941956774e-32\n"
     ]
    }
   ],
   "source": [
    "mtx1, mtx2, disparity = scipy.spatial.procrustes(pc1, pc2)\n",
    "print(disparity)\n",
    "\n",
    "\n",
    "mtx1, mtx2, disparity = scipy.spatial.procrustes(dgm1, rotated_dgm1)\n",
    "print(disparity)"
   ]
  },
  {
   "cell_type": "code",
   "execution_count": null,
   "metadata": {},
   "outputs": [
    {
     "name": "stdout",
     "output_type": "stream",
     "text": [
      "cube-like_1 0\n",
      "cube-like_2 1\n",
      "cube 2\n",
      "dod-like 3\n",
      "dod 4\n",
      "oct-like 5\n",
      "oct 6\n",
      "rotated_tetra 7\n",
      "scaled_tetra 8\n",
      "tetra-like 9\n",
      "tetra 10\n",
      "['cube-like_1', 'cube-like_2', 'cube', 'dod-like', 'dod', 'oct-like', 'oct', 'rotated_tetra', 'scaled_tetra', 'tetra-like', 'tetra']\n"
     ]
    }
   ],
   "source": [
    "\n",
    "shape_names=list(data.keys())\n",
    "for i,name in enumerate(shape_names):\n",
    "    print(name,i)\n",
    "print(shape_names)\n",
    "custom_names_index=[0,1,3,5,9,7,8,10,2,6,4]\n",
    "shape_names_custom=[shape_names[i] for i in custom_names_index  ]\n",
    "n_shapes=len(shape_names_custom)\n",
    "similarity_matrix=np.zeros(shape=(n_shapes,n_shapes))\n",
    "for i,shape_name_i in enumerate(shape_names_custom):\n",
    "    for j,shape_name_j in enumerate(shape_names_custom):\n",
    "        point_set_1=np.array(data[shape_name_i]['vertices'])\n",
    "        point_set_2=np.array(data[shape_name_j]['vertices'])\n",
    "        point_set_1, point_set_2= equalize_point_clouds(point_set_1, point_set_2)\n",
    "        mtx1, mtx2, disparity = scipy.spatial.procrustes(point_set_1, point_set_2)\n",
    "        similarity_matrix[i,j]=disparity"
   ]
  },
  {
   "cell_type": "code",
   "execution_count": null,
   "metadata": {},
   "outputs": [
    {
     "data": {
      "image/png": "[encoded data removed]",
      "text/plain": [
       "<Figure size 640x480 with 2 Axes>"
      ]
     },
     "metadata": {},
     "output_type": "display_data"
    }
   ],
   "source": [
    "plot_similarity_matrix( similarity_matrix, labels=shape_names_custom)"
   ]
  },
  {
   "cell_type": "markdown",
   "metadata": {},
   "source": [
    "# ICP registration\n",
    "\n",
    "This tutorial demonstrates the ICP (Iterative Closest Point) registration algorithm. It has been a mainstay of geometric registration in both research and industry for many years. The input are two point clouds and an initial transformation that roughly aligns the source point cloud to the target point cloud. The output is a refined transformation that tightly aligns the two point clouds. A helper function draw_registration_result visualizes the alignment during the registration process. In this tutorial, we show two ICP variants, the point-to-point ICP and the point-to-plane ICP [Rusinkiewicz2001]."
   ]
  },
  {
   "cell_type": "code",
   "execution_count": null,
   "metadata": {},
   "outputs": [],
   "source": [
    "def draw_registration_result(source, target,transformation):\n",
    "    source_temp = copy.deepcopy(source)\n",
    "    target_temp = copy.deepcopy(target)\n",
    "    source_temp.paint_uniform_color([1, 0.706, 0])\n",
    "    target_temp.paint_uniform_color([0, 0.651, 0.929])\n",
    "    # source_temp.compute_vertex_normals()\n",
    "    # target_temp.compute_vertex_normals()\n",
    "    # zoom = np.array([0.4459])\n",
    "    # front = np.array([0.9288, -0.2951, -0.2242])\n",
    "    # lookat = np.array([1.6784, 2.0612, 1.4451])\n",
    "    # up = np.array([-0.3402, -0.9189, -0.1996])\n",
    "    source_temp.transform(transformation)\n",
    "\n",
    "    o3d.visualization.draw_geometries([source_temp, target_temp])\n",
    "                                    #   zoom=zoom,\n",
    "                                    #   front=front,\n",
    "                                    #   lookat=lookat,\n",
    "                                    #   up=up)"
   ]
  },
  {
   "cell_type": "code",
   "execution_count": null,
   "metadata": {},
   "outputs": [
    {
     "name": "stdout",
     "output_type": "stream",
     "text": [
      "[[-0.5 -0.5 -0.5]\n",
      " [-0.5 -0.5  0.5]\n",
      " [-0.5  0.5 -0.5]\n",
      " [-0.5  0.5  0.5]\n",
      " [ 0.5 -0.5 -0.5]\n",
      " [ 0.5 -0.5  0.5]\n",
      " [ 0.5  0.5 -0.5]\n",
      " [ 0.5  0.5  0.5]]\n",
      "[[-0.70710678  0.         -0.5       ]\n",
      " [-0.70710678  0.          0.5       ]\n",
      " [ 0.          0.70710678 -0.5       ]\n",
      " [ 0.          0.70710678  0.5       ]\n",
      " [ 0.         -0.70710678 -0.5       ]\n",
      " [ 0.         -0.70710678  0.5       ]\n",
      " [ 0.70710678  0.         -0.5       ]\n",
      " [ 0.70710678  0.          0.5       ]]\n",
      "PointCloud with 8 points. \n",
      "\n",
      "std::vector<Eigen::Vector3d> with 8 elements.\n",
      "Use numpy.asarray() to access data.\n",
      "std::vector<Eigen::Vector3d> with 8 elements.\n",
      "Use numpy.asarray() to access data.\n"
     ]
    }
   ],
   "source": [
    "ps_1=np.array(data['cube']['vertices'])\n",
    "ps_2=my_lib.math.rot_z(np.array(data['cube']['vertices']),45 )\n",
    "\n",
    "print(ps_1)\n",
    "print(ps_2)\n",
    "source = o3d.geometry.PointCloud()\n",
    "source.points = o3d.utility.Vector3dVector(ps_1)\n",
    "\n",
    "target = o3d.geometry.PointCloud()\n",
    "target.points = o3d.utility.Vector3dVector(ps_2)\n",
    "\n",
    "print(target, \"\\n\")\n",
    "threshold = 0.02\n",
    "\n",
    "print(target.points)\n",
    "print(source.points)\n",
    "transform_init=np.asarray([[1., 0., 0., 0.],\n",
    "                        [0., 1., 0., 0.],\n",
    "                        [0., 0., 1., 0.],\n",
    "                        [0., 0., 0., 1.]])\n",
    "draw_registration_result(source, target,transform_init)"
   ]
  },
  {
   "cell_type": "code",
   "execution_count": null,
   "metadata": {},
   "outputs": [
    {
     "name": "stdout",
     "output_type": "stream",
     "text": [
      "Initial alignment\n",
      "RegistrationResult with fitness=0.000000e+00, inlier_rmse=0.000000e+00, and correspondence_set size of 0\n",
      "Access transformation to get result.\n"
     ]
    }
   ],
   "source": [
    "print(\"Initial alignment\")\n",
    "evaluation = o3d.pipelines.registration.evaluate_registration(source, target, threshold)\n",
    "print(evaluation)"
   ]
  },
  {
   "cell_type": "markdown",
   "metadata": {},
   "source": [
    "# Point-to-point ICP\n",
    "In general, the ICP algorithm iterates over two steps:\n",
    "\n",
    "Find correspondence set K={(p,q)}\n",
    " from target point cloud P\n",
    ", and source point cloud Q\n",
    " transformed with current transformation matrix T\n",
    ".\n",
    "\n",
    "Update the transformation T\n",
    " by minimizing an objective function E(T)\n",
    " defined over the correspondence set K\n",
    ".\n",
    "\n",
    "Different variants of ICP use different objective functions E(T)\n",
    " [BeslAndMcKay1992] [ChenAndMedioni1992] [Park2017].\n",
    "\n",
    "We first show a point-to-point ICP algorithm [BeslAndMcKay1992] using the objective\n",
    "\n",
    "E(T)=∑(p,q)∈K∥p−Tq∥2\n",
    "\n",
    "The class TransformationEstimationPointToPoint provides functions to compute the residuals and Jacobian matrices of the point-to-point ICP objective. The function registration_icp takes it as a parameter and runs point-to-point ICP to obtain the results."
   ]
  },
  {
   "cell_type": "code",
   "execution_count": null,
   "metadata": {},
   "outputs": [],
   "source": [
    "ps_1=np.array(data['cube']['vertices'])\n",
    "ps_2=my_lib.math.rot_z(np.array(data['cube']['vertices']),45 )\n",
    "\n",
    "source = o3d.geometry.PointCloud()\n",
    "source.points = o3d.utility.Vector3dVector(ps_1)\n",
    "\n",
    "target = o3d.geometry.PointCloud()\n",
    "target.points = o3d.utility.Vector3dVector(ps_2)"
   ]
  },
  {
   "cell_type": "code",
   "execution_count": null,
   "metadata": {},
   "outputs": [
    {
     "name": "stdout",
     "output_type": "stream",
     "text": [
      "Apply point-to-point ICP\n",
      "RegistrationResult with fitness=1.000000e+00, inlier_rmse=4.097478e-01, and correspondence_set size of 8\n",
      "Access transformation to get result.\n",
      "Transformation is:\n",
      "[[ 1.          0.          0.         -0.35355339]\n",
      " [ 0.          1.          0.          0.        ]\n",
      " [ 0.          0.          1.          0.        ]\n",
      " [ 0.          0.          0.          1.        ]]\n"
     ]
    }
   ],
   "source": [
    "print(\"Apply point-to-point ICP\")\n",
    "\n",
    "threshold = 50\n",
    "transform_init=np.asarray([[1., 0., 0., 0.],\n",
    "                        [0., 1., 0., 0.],\n",
    "                        [0., 0., 1., 0.],\n",
    "                        [0., 0., 0., 1.]])\n",
    "reg_p2p = o3d.pipelines.registration.registration_icp(\n",
    "    source, target, threshold,transform_init,\n",
    "    o3d.pipelines.registration.TransformationEstimationPointToPoint(),\n",
    "    # o3d.pipelines.registration.TransformationEstimationPointToPlane(),\n",
    "    # o3d.pipelines.registration.TransformationEstimationForGeneralizedICP(),\n",
    "    o3d.pipelines.registration.ICPConvergenceCriteria( relative_fitness=1.000000e-6, relative_rmse=1.000000e-6, max_iteration=10000))\n",
    "print(reg_p2p)\n",
    "print(\"Transformation is:\")\n",
    "print(reg_p2p.transformation)\n"
   ]
  },
  {
   "cell_type": "code",
   "execution_count": null,
   "metadata": {},
   "outputs": [],
   "source": [
    "draw_registration_result(source, target, reg_p2p.transformation)"
   ]
  },
  {
   "cell_type": "code",
   "execution_count": null,
   "metadata": {},
   "outputs": [],
   "source": [
    "def similarity_o3d(ps_1,ps_2,threshold = 0.02):\n",
    "    source = o3d.geometry.PointCloud()\n",
    "    source.points = o3d.utility.Vector3dVector(ps_1)\n",
    "\n",
    "    target = o3d.geometry.PointCloud()\n",
    "    target.points = o3d.utility.Vector3dVector(ps_2)\n",
    "\n",
    "    evaluation = o3d.pipelines.registration.evaluate_registration(source, target, threshold)\n",
    "    print(evaluation)\n",
    "    return evaluation"
   ]
  },
  {
   "cell_type": "code",
   "execution_count": null,
   "metadata": {},
   "outputs": [
    {
     "name": "stdout",
     "output_type": "stream",
     "text": [
      "RegistrationResult with fitness=0.000000e+00, inlier_rmse=0.000000e+00, and correspondence_set size of 0\n",
      "Access transformation to get result.\n"
     ]
    },
    {
     "data": {
      "text/plain": [
       "RegistrationResult with fitness=0.000000e+00, inlier_rmse=0.000000e+00, and correspondence_set size of 0\n",
       "Access transformation to get result."
      ]
     },
     "execution_count": 131,
     "metadata": {},
     "output_type": "execute_result"
    }
   ],
   "source": [
    "ps_1=np.array(data['cube']['vertices'])\n",
    "ps_2=np.array(data['tetra']['vertices'])\n",
    "\n",
    "similarity_o3d(ps_1,ps_2,threshold = 0.02)"
   ]
  },
  {
   "cell_type": "markdown",
   "metadata": {},
   "source": [
    "# Custom ICP"
   ]
  },
  {
   "cell_type": "code",
   "execution_count": null,
   "metadata": {},
   "outputs": [],
   "source": [
    "def icp(a, b,\n",
    "        max_time = 1\n",
    "    ):\n",
    "    import cv2\n",
    "    import numpy\n",
    "    import copy\n",
    "    import pylab\n",
    "    import time\n",
    "    import sys\n",
    "    import sklearn.neighbors\n",
    "    import scipy.optimize\n",
    "\n",
    "\n",
    "\n",
    "    def res(p,src,dst):\n",
    "        T = numpy.matrix([[numpy.cos(p[2]),-numpy.sin(p[2]),p[0]],\n",
    "        [numpy.sin(p[2]), numpy.cos(p[2]),p[1]],\n",
    "        [0 ,0 ,1 ]])\n",
    "        n = numpy.size(src,0)\n",
    "        xt = numpy.ones([n,3])\n",
    "        xt[:,:-1] = src\n",
    "        xt = (xt*T.T).A\n",
    "        d = numpy.zeros(numpy.shape(src))\n",
    "        d[:,0] = xt[:,0]-dst[:,0]\n",
    "        d[:,1] = xt[:,1]-dst[:,1]\n",
    "        r = numpy.sum(numpy.square(d[:,0])+numpy.square(d[:,1]))\n",
    "        return r\n",
    "\n",
    "    def jac(p,src,dst):\n",
    "        T = numpy.matrix([[numpy.cos(p[2]),-numpy.sin(p[2]),p[0]],\n",
    "        [numpy.sin(p[2]), numpy.cos(p[2]),p[1]],\n",
    "        [0 ,0 ,1 ]])\n",
    "        n = numpy.size(src,0)\n",
    "        xt = numpy.ones([n,3])\n",
    "        xt[:,:-1] = src\n",
    "        xt = (xt*T.T).A\n",
    "        d = numpy.zeros(numpy.shape(src))\n",
    "        d[:,0] = xt[:,0]-dst[:,0]\n",
    "        d[:,1] = xt[:,1]-dst[:,1]\n",
    "        dUdth_R = numpy.matrix([[-numpy.sin(p[2]),-numpy.cos(p[2])],\n",
    "                            [ numpy.cos(p[2]),-numpy.sin(p[2])]])\n",
    "        dUdth = (src*dUdth_R.T).A\n",
    "        g = numpy.array([  numpy.sum(2*d[:,0]),\n",
    "                        numpy.sum(2*d[:,1]),\n",
    "                        numpy.sum(2*(d[:,0]*dUdth[:,0]+d[:,1]*dUdth[:,1])) ])\n",
    "        return g\n",
    "    def hess(p,src,dst):\n",
    "        n = numpy.size(src,0)\n",
    "        T = numpy.matrix([[numpy.cos(p[2]),-numpy.sin(p[2]),p[0]],\n",
    "        [numpy.sin(p[2]), numpy.cos(p[2]),p[1]],\n",
    "        [0 ,0 ,1 ]])\n",
    "        n = numpy.size(src,0)\n",
    "        xt = numpy.ones([n,3])\n",
    "        xt[:,:-1] = src\n",
    "        xt = (xt*T.T).A\n",
    "        d = numpy.zeros(numpy.shape(src))\n",
    "        d[:,0] = xt[:,0]-dst[:,0]\n",
    "        d[:,1] = xt[:,1]-dst[:,1]\n",
    "        dUdth_R = numpy.matrix([[-numpy.sin(p[2]),-numpy.cos(p[2])],[numpy.cos(p[2]),-numpy.sin(p[2])]])\n",
    "        dUdth = (src*dUdth_R.T).A\n",
    "        H = numpy.zeros([3,3])\n",
    "        H[0,0] = n*2\n",
    "        H[0,2] = numpy.sum(2*dUdth[:,0])\n",
    "        H[1,1] = n*2\n",
    "        H[1,2] = numpy.sum(2*dUdth[:,1])\n",
    "        H[2,0] = H[0,2]\n",
    "        H[2,1] = H[1,2]\n",
    "        d2Ud2th_R = numpy.matrix([[-numpy.cos(p[2]), numpy.sin(p[2])],[-numpy.sin(p[2]),-numpy.cos(p[2])]])\n",
    "        d2Ud2th = (src*d2Ud2th_R.T).A\n",
    "        H[2,2] = numpy.sum(2*(numpy.square(dUdth[:,0])+numpy.square(dUdth[:,1]) + d[:,0]*d2Ud2th[:,0]+d[:,0]*d2Ud2th[:,0]))\n",
    "        return H\n",
    "    t0 = time.time()\n",
    "    init_pose = (0,0,0)\n",
    "    src = numpy.array([a.T], copy=True).astype(numpy.float32)\n",
    "    dst = numpy.array([b.T], copy=True).astype(numpy.float32)\n",
    "    Tr = numpy.array([[numpy.cos(init_pose[2]),-numpy.sin(init_pose[2]),init_pose[0]],\n",
    "                   [numpy.sin(init_pose[2]), numpy.cos(init_pose[2]),init_pose[1]],\n",
    "                   [0,                    0,                   1          ]])\n",
    "    print(\"src\",numpy.shape(src))\n",
    "    print(\"Tr[0:2]\",numpy.shape(Tr[0:2]))\n",
    "    src = cv2.transform(src, Tr[0:2])\n",
    "    p_opt = numpy.array(init_pose)\n",
    "    T_opt = numpy.array([])\n",
    "    error_max = sys.maxsize\n",
    "    first = False\n",
    "    while not(first and time.time() - t0 > max_time):\n",
    "        distances, indices = sklearn.neighbors.NearestNeighbors(n_neighbors=1, algorithm='auto',p = 3).fit(dst[0]).kneighbors(src[0])\n",
    "        p = scipy.optimize.minimize(res,[0,0,0],args=(src[0],dst[0, indices.T][0]),method='Newton-CG',jac=jac,hess=hess).x\n",
    "        T  = numpy.array([[numpy.cos(p[2]),-numpy.sin(p[2]),p[0]],[numpy.sin(p[2]), numpy.cos(p[2]),p[1]]])\n",
    "        p_opt[:2]  = (p_opt[:2]*numpy.matrix(T[:2,:2]).T).A       \n",
    "        p_opt[0] += p[0]\n",
    "        p_opt[1] += p[1]\n",
    "        p_opt[2] += p[2]\n",
    "        src = cv2.transform(src, T)\n",
    "        Tr = (numpy.matrix(numpy.vstack((T,[0,0,1])))*numpy.matrix(Tr)).A\n",
    "        error = res([0,0,0],src[0],dst[0, indices.T][0])\n",
    "\n",
    "        if error < error_max:\n",
    "            error_max = error\n",
    "            first = True\n",
    "            T_opt = Tr\n",
    "\n",
    "    p_opt[2] = p_opt[2] % (2*numpy.pi)\n",
    "    return T_opt, error_max"
   ]
  },
  {
   "cell_type": "code",
   "execution_count": null,
   "metadata": {},
   "outputs": [],
   "source": [
    "# import cv2\n",
    "# import numpy\n",
    "# import random\n",
    "# import matplotlib.pyplot\n",
    "# n1 = 100\n",
    "# n2 = 75\n",
    "# bruit = 1/10\n",
    "# center = [random.random()*(2-1)*3,random.random()*(2-1)*3]\n",
    "# radius = random.random()\n",
    "# deformation = 2\n",
    "\n",
    "# template = numpy.array([\n",
    "#     [numpy.cos(i*2*numpy.pi/n1)*radius*deformation for i in range(n1)], \n",
    "#     [numpy.sin(i*2*numpy.pi/n1)*radius for i in range(n1)]\n",
    "# ])\n",
    "\n",
    "# data = numpy.array([\n",
    "#     [numpy.cos(i*2*numpy.pi/n2)*radius*(1+random.random()*bruit)+center[0] for i in range(n2)], \n",
    "#     [numpy.sin(i*2*numpy.pi/n2)*radius*deformation*(1+random.random()*bruit)+center[1] for i in range(n2)]\n",
    "# ])\n",
    "\n",
    "# T,error = icp(data,template)\n",
    "# dx = T[0,2]\n",
    "# dy = T[1,2]\n",
    "# rotation = numpy.arcsin(T[0,1]) * 360 / 2 / numpy.pi\n",
    "\n",
    "# print(\"T\",T)\n",
    "# print(\"error\",error)\n",
    "# print(\"rotation°\",rotation)\n",
    "# print(\"dx\",dx)\n",
    "# print(\"dy\",dy)\n",
    "\n",
    "# result = cv2.transform(numpy.array([data.T], copy=True).astype(numpy.float32), T).T\n",
    "# matplotlib.pyplot.plot(template[0], template[1], label=\"template\")\n",
    "# matplotlib.pyplot.plot(data[0], data[1], label=\"data\")\n",
    "# matplotlib.pyplot.plot(result[0], result[1], label=\"result: \"+str(rotation)+\"° - \"+str([dx,dy]))\n",
    "# matplotlib.pyplot.legend(loc=\"upper left\")\n",
    "# matplotlib.pyplot.axis('square')\n",
    "# matplotlib.pyplot.show()"
   ]
  },
  {
   "cell_type": "code",
   "execution_count": null,
   "metadata": {},
   "outputs": [
    {
     "name": "stdout",
     "output_type": "stream",
     "text": [
      "{'cube-like_1': {'vertices': [[-1.5610940596101637, 3.007591755096396, 0.6540881713940931], [-0.12734937191639875, 1.5018256393814862, -0.9681590877898649], [-0.1472139553524771, 4.059347306539453, 0.9048358963742741], [-1.1056018594606634, 2.9118447037721467, -1.2628776782671443], [-1.1347728981648033, 2.9395716377943497, -1.2192138009483693], [-1.1007870284255312, 2.954760759147764, -1.2642544002698246], [0.14721395535247794, 1.4480816934605474, -0.9048358963742734], [-0.04951849136340658, 1.3380790861342804, -0.7558287522527248], [1.1007870284255317, 2.5526682408522365, 1.2642544002698248], [-0.4467834459029587, 1.4014632463672834, 0.9897970580129993], [0.0495184913634068, 4.1693499138657195, 0.7558287522527258], [1.1056018594606638, 2.5955842962278535, 1.2628776782671451], [0.12734937191639872, 4.005603360618514, 0.9681590877898655], [0.44678344590295893, 4.105965753632717, -0.9897970580129986], [1.1347728981648038, 2.5678573622056504, 1.219213800948371], [1.5610940596101637, 2.499837244903604, -0.6540881713940925]]}, 'cube-like_2': {'vertices': [[3.325675162276587, 2.7721813740825554, -0.15032750642414405], [0.2565651338603758, 3.214599141464254, 0.3838871671925155], [0.3637623983845195, 3.412715041834665, 0.5442817367498695], [3.4127150418346646, 0.5442817367498698, 0.3637623983845195], [3.8596968881556304, 0.7672924528764009, 3.215555261577223], [3.28736598188651, 2.7442730601241747, -0.1716872284629094], [3.2145991414642534, 0.38388716719251437, 0.25656513386037605], [0.4449622889519995, 2.083129333776001, 0.44496228895199974], [0.2917369334057738, 3.106917762562171, 0.2917369334057742], [2.7442730601241743, -0.1716872284629094, 3.28736598188651], [0.4449622889520002, 0.44496228895199974, 2.083129333776001], [2.083129333776001, 0.44496228895199974, 0.44496228895199996], [3.106917762562171, 0.291736933405774, 0.2917369334057738], [-0.17168722846290962, 3.28736598188651, 2.7442730601241756], [-0.15032750642414472, 3.325675162276587, 2.772181374082556], [0.2917369334057742, 0.29173693340577356, 3.106917762562171], [0.38388716719251526, 0.25656513386037605, 3.2145991414642543], [0.5993244100341759, 3.440771806912349, 3.673643525633595], [3.2249138044700123, 3.8538504852728357, 3.334543547011789], [3.5695246595817163, 3.5695246595817163, 3.569524659581716], [3.8538504852728357, 3.3345435470117883, 3.2249138044700123], [3.2155552615772236, 3.859696888155631, 0.7672924528764014], [3.440771806912349, 3.6736435256335946, 0.599324410034177], [0.5442817367498696, 0.3637623983845193, 3.412715041834666], [0.7672924528764007, 3.215555261577223, 3.8596968881556313], [3.334543547011787, 3.2249138044700114, 3.853850485272837], [2.772181374082556, -0.1503275064241436, 3.325675162276588], [3.6736435256335938, 0.5993244100341756, 3.44077180691235]]}, 'cube': {'vertices': [[-0.5, -0.5, -0.5], [-0.5, -0.5, 0.5], [-0.5, 0.5, -0.5], [-0.5, 0.5, 0.5], [0.5, -0.5, -0.5], [0.5, -0.5, 0.5], [0.5, 0.5, -0.5], [0.5, 0.5, 0.5]]}, 'dod-like': {'vertices': [[9.35032981971472, 5.347268180285281, 3.817163621730258], [9.565874129342053, 6.5013130232365235, 4.13423618046107], [8.806123370657946, 6.8889623195389325, 4.521885476763478], [10.563361819538931, 6.501313023236524, 5.131723870657948], [8.196284976763476, 5.131723870657947, 4.13423618046107], [7.808635680461068, 5.891474629342055, 4.521885476763478], [10.563361819538931, 5.1317238706579476, 6.5013130232365235], [10.880434378269744, 5.347268180285281, 5.347268180285282], [10.15058366514502, 4.54701433485498, 4.547014334854982], [7.491563121730255, 5.675930319714721, 5.6759303197147215], [8.806123370657946, 4.521885476763477, 6.888962319538932], [9.565874129342054, 4.134236180461069, 6.5013130232365235], [9.350329819714721, 3.8171636217302574, 5.3472681802852815], [8.196284976763476, 4.1342361804610706, 5.131723870657947], [7.808635680461068, 4.521885476763478, 5.891474629342055], [9.02166768028528, 7.206034878269745, 5.6759303197147215], [10.175712523236523, 6.888962319538932, 5.891474629342055], [8.22141383485498, 6.476184165145021, 6.476184165145021], [10.175712523236523, 5.891474629342055, 6.888962319538932], [9.02166768028528, 5.6759303197147215, 7.206034878269744]]}, 'dod': {'vertices': [[-0.69813, 0.0, 0.13333], [0.69813, 0.0, -0.13333], [-0.21573, -0.66396, 0.13333], [-0.21573, 0.66396, 0.13333], [0.5648, -0.41035, 0.13333], [0.5648, 0.41035, 0.13333], [-0.13333, -0.41035, 0.5648], [-0.13333, 0.41035, 0.5648], [-0.34907, -0.25361, -0.5648], [-0.34907, 0.25361, -0.5648], [0.34907, -0.25361, 0.5648], [0.34907, 0.25361, 0.5648], [0.43147, 0.0, -0.5648], [-0.5648, -0.41035, -0.13333], [-0.5648, 0.41035, -0.13333], [-0.43147, 0.0, 0.5648], [0.13333, -0.41035, -0.5648], [0.13333, 0.41035, -0.5648], [0.21573, -0.66396, -0.13333], [0.21573, 0.66396, -0.13333]]}, 'oct-like': {'vertices': [[6.947501927571278, 5.506972438490912, -0.32924188281113315], [4.58269653692375, 2.826614046054236, -0.3945087196480414], [7.18110515366992, 2.8078845592552617, 2.0260123040021707], [4.612639695997836, 3.830767440744741, 0.54245315366992], [6.329802072428725, 5.5069724384909104, 0.3292418828111341], [6.244143280351961, 3.8120379539457647, 2.0559554630762555], [6.309410117188869, 1.1316795615090895, -0.3088499275712768], [6.9678938828111345, 1.1316795615090887, 0.3088499275712766], [6.0961988463300845, 2.807884559255262, -2.0260123040021703], [8.69460746307626, 2.8266140460542384, 0.39450871964804124], [7.033160719648042, 3.812037953945764, -2.0559554630762564], [8.664664304002175, 3.830767440744741, -0.5424531536699175]]}, 'oct': {'vertices': [[-0.90856, 0.0, 0.0], [0.0, 0.90856, 0.0], [0.0, 0.0, -0.90856], [0.0, 0.0, 0.90856], [0.0, -0.90856, 0.0], [0.90856, 0.0, 0.0]]}, 'rotated_tetra': {'vertices': [[0.0, 0.0, 1.24902], [-0.9646285806955796, -0.6754331748627925, -0.41634], [-0.10263946931877943, 1.1731084398886402, -0.41634], [1.0672589869364886, -0.4976710388432302, -0.41634]]}, 'scaled_tetra': {'vertices': [[0.0, 0.0, 2.49804], [-1.1776, -2.03964, -0.83268], [-1.1776, 2.03964, -0.83268], [2.35518, 0.0, -0.83268]]}, 'tetra-like': {'vertices': [[1.9306777251472496, 3.1169782854024306, 2.0563769867442585], [1.8054822121351715, 3.1240859126747322, 1.9467541237138737], [1.945910572533114, 3.1566328366269816, 2.04097287449931], [2.464382954373896, 2.1142163254329995, 1.873274249487606], [2.719479455568606, 3.3121417289241086, 1.5357261882866609], [1.477186370678998, 0.4852793063463494, -0.11811265953387831], [2.441662682102672, 0.42162704621215696, 0.7204451394088339], [2.673238587927734, 0.41026612968851905, -0.40558219482153296], [0.044601042266896096, 2.699454623535892, 0.054029062321303604], [2.470522912474803, 3.1838424381692065, -1.6721398974028676], [3.251331161928193, 3.3685101200246885, -0.9888726326663095], [-0.07960104245943045, 2.4443673007640045, -0.2300528137135605], [0.04482841213036726, 1.9658766754887975, -0.4364098368951282], [-0.07903568131810079, 2.4491544147108617, -0.633172809124098], [3.1071433997753926, 2.576182674590298, -1.5546818660746209], [3.227423271315739, 2.5675009030833937, -1.4709558145256372], [3.1629591019092436, 2.235525862106149, -1.407475241019251], [0.01747261621426119, 2.6504367321900224, -0.7551432628817729], [0.030745792604394778, 2.6778868113389396, -0.7459210615581939], [0.15299435037045034, 2.7026738080163524, -0.816650776407609]]}, 'tetra': {'vertices': [[0.0, 0.0, 1.24902], [-0.5888, -1.01982, -0.41634], [-0.5888, 1.01982, -0.41634], [1.17759, 0.0, -0.41634]]}}\n",
      "src (1, 3, 8)\n",
      "Tr[0:2] (2, 3)\n"
     ]
    },
    {
     "ename": "error",
     "evalue": "OpenCV(4.8.0) D:\\a\\opencv-python\\opencv-python\\opencv\\modules\\core\\src\\matmul.dispatch.cpp:458: error: (-215:Assertion failed) scn == m.cols || scn + 1 == m.cols in function 'cv::transform'\n",
     "output_type": "error",
     "traceback": [
      "\u001b[1;31m---------------------------------------------------------------------------\u001b[0m",
      "\u001b[1;31merror\u001b[0m                                     Traceback (most recent call last)",
      "Cell \u001b[1;32mIn[183], line 5\u001b[0m\n\u001b[0;32m      2\u001b[0m ps_1\u001b[39m=\u001b[39mnp\u001b[39m.\u001b[39masarray(data[\u001b[39m'\u001b[39m\u001b[39mcube\u001b[39m\u001b[39m'\u001b[39m][\u001b[39m'\u001b[39m\u001b[39mvertices\u001b[39m\u001b[39m'\u001b[39m])\n\u001b[0;32m      3\u001b[0m ps_2\u001b[39m=\u001b[39mnp\u001b[39m.\u001b[39masarray(data[\u001b[39m'\u001b[39m\u001b[39mtetra\u001b[39m\u001b[39m'\u001b[39m][\u001b[39m'\u001b[39m\u001b[39mvertices\u001b[39m\u001b[39m'\u001b[39m])\n\u001b[1;32m----> 5\u001b[0m T,error \u001b[39m=\u001b[39m icp(ps_1, ps_2,max_time \u001b[39m=\u001b[39;49m \u001b[39m1\u001b[39;49m)\n\u001b[0;32m      6\u001b[0m dx \u001b[39m=\u001b[39m T[\u001b[39m0\u001b[39m,\u001b[39m2\u001b[39m]\n\u001b[0;32m      7\u001b[0m dy \u001b[39m=\u001b[39m T[\u001b[39m1\u001b[39m,\u001b[39m2\u001b[39m]\n",
      "Cell \u001b[1;32mIn[175], line 81\u001b[0m, in \u001b[0;36micp\u001b[1;34m(a, b, max_time)\u001b[0m\n\u001b[0;32m     79\u001b[0m \u001b[39mprint\u001b[39m(\u001b[39m\"\u001b[39m\u001b[39msrc\u001b[39m\u001b[39m\"\u001b[39m,numpy\u001b[39m.\u001b[39mshape(src))\n\u001b[0;32m     80\u001b[0m \u001b[39mprint\u001b[39m(\u001b[39m\"\u001b[39m\u001b[39mTr[0:2]\u001b[39m\u001b[39m\"\u001b[39m,numpy\u001b[39m.\u001b[39mshape(Tr[\u001b[39m0\u001b[39m:\u001b[39m2\u001b[39m]))\n\u001b[1;32m---> 81\u001b[0m src \u001b[39m=\u001b[39m cv2\u001b[39m.\u001b[39;49mtransform(src, Tr[\u001b[39m0\u001b[39;49m:\u001b[39m2\u001b[39;49m])\n\u001b[0;32m     82\u001b[0m p_opt \u001b[39m=\u001b[39m numpy\u001b[39m.\u001b[39marray(init_pose)\n\u001b[0;32m     83\u001b[0m T_opt \u001b[39m=\u001b[39m numpy\u001b[39m.\u001b[39marray([])\n",
      "\u001b[1;31merror\u001b[0m: OpenCV(4.8.0) D:\\a\\opencv-python\\opencv-python\\opencv\\modules\\core\\src\\matmul.dispatch.cpp:458: error: (-215:Assertion failed) scn == m.cols || scn + 1 == m.cols in function 'cv::transform'\n"
     ]
    }
   ],
   "source": [
    "print(data)\n",
    "ps_1=np.asarray(data['cube']['vertices'])\n",
    "ps_2=np.asarray(data['tetra']['vertices'])\n",
    "\n",
    "T,error = icp(ps_1, ps_2,max_time = 1)\n",
    "dx = T[0,2]\n",
    "dy = T[1,2]\n",
    "rotation = np.arcsin(T[0,1]) * 360 / 2 / np.pi\n",
    "\n",
    "print(\"T\",T)\n",
    "print(\"error\",error)\n",
    "print(\"rotation°\",rotation)\n",
    "print(\"dx\",dx)\n",
    "print(\"dy\",dy)"
   ]
  },
  {
   "cell_type": "markdown",
   "metadata": {},
   "source": [
    "# Open CIV ICP"
   ]
  },
  {
   "cell_type": "code",
   "execution_count": null,
   "metadata": {},
   "outputs": [],
   "source": [
    "import numpy as np\n",
    "from sklearn.neighbors import NearestNeighbors\n",
    "\n",
    "def best_fit_transform(A, B):\n",
    "    '''\n",
    "    Calculates the least-squares best-fit transform between two 3D point sets.\n",
    "    Input:\n",
    "        A: nx3 numpy array of corresponding points\n",
    "        B: nx3 numpy array of corresponding points\n",
    "    Returns:\n",
    "        T: 4x4 homogeneous transformation matrix\n",
    "        R: 3x3 rotation matrix\n",
    "        t: 3x1 column vector\n",
    "    '''\n",
    "\n",
    "    assert len(A) == len(B)\n",
    "\n",
    "    num_rows, num_cols = A.shape;\n",
    "\n",
    "    if num_cols != 3:\n",
    "        raise 'dimension of the points must be 3'\n",
    "\n",
    "    # translate points to their centroids\n",
    "    centroid_A = np.mean(A, axis=0)\n",
    "    centroid_B = np.mean(B, axis=0)\n",
    "    AA = A - centroid_A\n",
    "    BB = B - centroid_B\n",
    "\n",
    "    # rotation matrix\n",
    "    H = np.dot(AA.T, BB)\n",
    "    U, S, Vt = np.linalg.svd(H)\n",
    "    R = np.dot(Vt.T, U.T)\n",
    "\n",
    "    # special reflection case\n",
    "    if np.linalg.det(R) < 0:\n",
    "        Vt[num_rows-1,:] *= -1\n",
    "        R = np.dot(Vt.T, U.T)\n",
    "\n",
    "    # translation\n",
    "    t = centroid_B.T - np.dot(R,centroid_A.T)\n",
    "\n",
    "    # homogeneous transformation\n",
    "    T = np.identity(4)\n",
    "    T[0:3, 0:3] = R\n",
    "    T[0:3, 3] = t\n",
    "\n",
    "    return T, R, t\n",
    "\n",
    "def nearest_neighbor(src, dst):\n",
    "    '''\n",
    "    Find the nearest neighbors between two sets of points\n",
    "    Input:\n",
    "        src: nx3 numpy array of points\n",
    "        dst: mx3 numpy array of points\n",
    "    Returns:\n",
    "        distances: Euclidean distances of the nearest neighbor\n",
    "        indices: dst indices of the nearest neighbor\n",
    "    '''\n",
    "\n",
    "    assert len(src)\n",
    "\n",
    "    neigh = NearestNeighbors(n_neighbors=1)\n",
    "    neigh.fit(dst)\n",
    "    distances, indices = neigh.kneighbors(src, return_distance=True)\n",
    "\n",
    "    return distances.ravel(), indices.ravel()\n",
    "\n",
    "def equalize_point_cloud_sizes(A, B):\n",
    "    if A.shape[0] < B.shape[0]:\n",
    "        last_point = A[-1, :]\n",
    "        num_points_to_add = B.shape[0] - A.shape[0]\n",
    "        A = np.vstack([A] + [last_point] * num_points_to_add)\n",
    "    elif B.shape[0] < A.shape[0]:\n",
    "        last_point = B[-1, :]\n",
    "        num_points_to_add = A.shape[0] - B.shape[0]\n",
    "        B = np.vstack([B] + [last_point] * num_points_to_add)\n",
    "    return A, B\n",
    "\n",
    "def icp(A, B, init_pose=None, max_iterations=20, tolerance=0.001):\n",
    "    '''\n",
    "    The Iterative Closest Point method: finds best-fit transform that maps points A on to points B\n",
    "    Input:\n",
    "        A: Nxm numpy array of source mD points\n",
    "        B: Nxm numpy array of destination mD point\n",
    "        init_pose: (m+1)x(m+1) homogeneous transformation\n",
    "        max_iterations: exit algorithm after max_iterations\n",
    "        tolerance: convergence criteria\n",
    "    Output:\n",
    "        T: final homogeneous transformation that maps A on to B\n",
    "        distances: Euclidean distances (errors) of the nearest neighbor\n",
    "        i: number of iterations to converge\n",
    "    '''\n",
    "\n",
    "    assert A.shape == B.shape\n",
    "\n",
    "    # get number of dimensions\n",
    "    m = A.shape[1]\n",
    "\n",
    "    # make points homogeneous, copy them to maintain the originals\n",
    "    src = np.ones((m+1,A.shape[0]))\n",
    "    dst = np.ones((m+1,B.shape[0]))\n",
    "    src[:m,:] = np.copy(A.T)\n",
    "    dst[:m,:] = np.copy(B.T)\n",
    "\n",
    "    # apply the initial pose estimation\n",
    "    if init_pose is not None:\n",
    "        src[:m,:] = np.dot(init_pose, src)[:m,:]\n",
    "\n",
    "    prev_error = 0\n",
    "\n",
    "    for i in range(max_iterations):\n",
    "        # find the nearest neighbors between the current source and destination points\n",
    "        distances, indices = nearest_neighbor(src[:m,:].T, dst[:m,:].T)\n",
    "\n",
    "        # compute the transformation between the current source and nearest destination points\n",
    "        T,_,_ = best_fit_transform(src[:m,:].T, dst[:m,indices].T)\n",
    "\n",
    "        # update the current source\n",
    "        src[:m,:] = (np.dot(T[:m,:m], src[:m,:]) + T[:m,m].reshape(-1,1)).reshape(m, -1)\n",
    "\n",
    "        # check error\n",
    "        mean_error = np.mean(distances)\n",
    "        if np.abs(prev_error - mean_error) < tolerance:\n",
    "            break\n",
    "        prev_error = mean_error\n",
    "\n",
    "    # calculate final transformation\n",
    "    T,_,_ = best_fit_transform(A, src[:m,:].T)\n",
    "\n",
    "    return T, distances, i"
   ]
  },
  {
   "cell_type": "code",
   "execution_count": null,
   "metadata": {},
   "outputs": [
    {
     "name": "stdout",
     "output_type": "stream",
     "text": [
      "Transformation matrix:\n",
      "[[ 1.          0.          0.          0.        ]\n",
      " [ 0.          0.99339413 -0.11475232 -0.07847699]\n",
      " [ 0.          0.11475232  0.99339413 -0.14582494]\n",
      " [ 0.          0.          0.          1.        ]]\n",
      "Mean error: 0.52\n",
      "Iterations: 2\n"
     ]
    }
   ],
   "source": [
    "# Example of usage with a 3D cube and a tetrahedron\n",
    "\n",
    "# Create a cube\n",
    "cube = np.array([\n",
    "    [0, 0, 0],\n",
    "    [1, 0, 0],\n",
    "    [1, 1, 0],\n",
    "    [0, 1, 0],\n",
    "    [0, 0, 1],\n",
    "    [1, 0, 1],\n",
    "    [1, 1, 1],\n",
    "    [0, 1, 1]\n",
    "])\n",
    "\n",
    "# Create a tetrahedron\n",
    "tetrahedron = np.array([\n",
    "    [0, 0, 0],\n",
    "    [1, 0, 0],\n",
    "    [0.5, 0.5 * np.sqrt(3), 0],\n",
    "    [0.5, 0.5 / np.sqrt(3), np.sqrt(2/3)]\n",
    "])\n",
    "\n",
    "# Equalize point clouds sizes\n",
    "cube, tetrahedron = equalize_point_cloud_sizes(cube, tetrahedron)\n",
    "\n",
    "# Apply ICP\n",
    "T, distances, iterations = icp(cube, tetrahedron)\n",
    "\n",
    "print(\"Transformation matrix:\")\n",
    "print(T)\n",
    "\n",
    "print(f\"Mean error: {np.mean(distances):.2f}\")\n",
    "print(f\"Iterations: {iterations}\")\n"
   ]
  },
  {
   "cell_type": "code",
   "execution_count": null,
   "metadata": {},
   "outputs": [
    {
     "name": "stdout",
     "output_type": "stream",
     "text": [
      "Transformation matrix:\n",
      "[[ 1.          0.          0.         -0.35355339]\n",
      " [ 0.          1.          0.          0.        ]\n",
      " [ 0.          0.          1.          0.        ]\n",
      " [ 0.          0.          0.          1.        ]]\n",
      "Mean error: 0.39\n",
      "Iterations: 2\n"
     ]
    }
   ],
   "source": [
    "# Equalize point clouds sizes\n",
    "ps_1=np.array(data['cube']['vertices'])\n",
    "# ps_2=np.array(data['tetra']['vertices'])\n",
    "ps_2=my_lib.math.rot_z(ps_1,45)\n",
    "ps_1, ps_2 = equalize_point_cloud_sizes(ps_1, ps_2)\n",
    "\n",
    "# Apply ICP\n",
    "T, distances, iterations = icp(ps_1, ps_2,max_iterations=20, tolerance=0.0000001)\n",
    "\n",
    "print(\"Transformation matrix:\")\n",
    "print(T)\n",
    "\n",
    "print(f\"Mean error: {np.mean(distances):.2f}\")\n",
    "print(f\"Iterations: {iterations}\")\n"
   ]
  },
  {
   "cell_type": "code",
   "execution_count": 27,
   "metadata": {},
   "outputs": [],
   "source": [
    "import numpy as np\n",
    "from scipy.spatial.transform import Rotation as R\n",
    "from scipy.spatial import KDTree\n",
    "def best_fit_transform(A, B):\n",
    "    '''\n",
    "    Calculates the least-squares best-fit transform between corresponding 3D points A and B.\n",
    "    '''\n",
    "    centroid_A = np.mean(A, axis=0)\n",
    "    centroid_B = np.mean(B, axis=0)\n",
    "\n",
    "    AA = A - centroid_A\n",
    "    BB = B - centroid_B\n",
    "\n",
    "    H = np.dot(AA.T, BB)\n",
    "\n",
    "    U, S, Vt = np.linalg.svd(H)\n",
    "\n",
    "    R = np.dot(Vt.T, U.T)\n",
    "\n",
    "    if np.linalg.det(R) < 0:\n",
    "       Vt[-1,:] *= -1\n",
    "       R = np.dot(Vt.T, U.T)\n",
    "\n",
    "    t = centroid_B.T - np.dot(R,centroid_A.T)\n",
    "\n",
    "    return R, t\n",
    "\n",
    "\n",
    "def icp(A, B, max_iterations=20, tolerance=0.001):\n",
    "    '''\n",
    "    The Iterative Closest Point method: aligns points in dataset A to dataset B.\n",
    "    '''\n",
    "    src = np.array([A.T], copy=True).astype(float)\n",
    "    dst = np.array([B.T], copy=True).astype(float)\n",
    "\n",
    "    prev_error = 0\n",
    "\n",
    "    for i in range(max_iterations):\n",
    "        # Find the nearest neighbours between the current source and destination points\n",
    "        distances, indices = KDTree(dst[0].T).query(src[0].T)\n",
    "\n",
    "        # Compute the transformation between the current source and nearest destination points\n",
    "        R, t = best_fit_transform(src[0].T, dst[0, indices].T)\n",
    "\n",
    "        # Update the current source\n",
    "        src[0] = np.dot(R, src[0]) + t\n",
    "\n",
    "        # Check error\n",
    "        mean_error = np.mean(distances)\n",
    "        if np.abs(prev_error - mean_error) < tolerance:\n",
    "            break\n",
    "        prev_error = mean_error\n",
    "\n",
    "    # Compute the final transformation\n",
    "    R, t = best_fit_transform(A, src[0].T)\n",
    "\n",
    "    return R, t\n"
   ]
  },
  {
   "cell_type": "code",
   "execution_count": 28,
   "metadata": {},
   "outputs": [
    {
     "ename": "ValueError",
     "evalue": "shapes (3,8) and (4,8) not aligned: 8 (dim 1) != 4 (dim 0)",
     "output_type": "error",
     "traceback": [
      "\u001b[1;31m---------------------------------------------------------------------------\u001b[0m",
      "\u001b[1;31mValueError\u001b[0m                                Traceback (most recent call last)",
      "Cell \u001b[1;32mIn[28], line 11\u001b[0m\n\u001b[0;32m      8\u001b[0m tetrahedra \u001b[39m=\u001b[39m np\u001b[39m.\u001b[39marray([(\u001b[39m0\u001b[39m,\u001b[39m0\u001b[39m,\u001b[39m0\u001b[39m), (\u001b[39m1\u001b[39m,\u001b[39m0\u001b[39m,\u001b[39m0\u001b[39m), (\u001b[39m0.5\u001b[39m, math\u001b[39m.\u001b[39msqrt(\u001b[39m3\u001b[39m)\u001b[39m/\u001b[39m\u001b[39m2\u001b[39m, \u001b[39m0\u001b[39m), (\u001b[39m0.5\u001b[39m, math\u001b[39m.\u001b[39msqrt(\u001b[39m3\u001b[39m)\u001b[39m/\u001b[39m\u001b[39m6\u001b[39m, math\u001b[39m.\u001b[39msqrt(\u001b[39m2\u001b[39m\u001b[39m/\u001b[39m\u001b[39m3\u001b[39m))]) \u001b[39m+\u001b[39m \u001b[39m5\u001b[39m\n\u001b[0;32m     10\u001b[0m \u001b[39m# Run the ICP algorithm\u001b[39;00m\n\u001b[1;32m---> 11\u001b[0m rotation, translation \u001b[39m=\u001b[39m icp(cube, tetrahedra)\n\u001b[0;32m     12\u001b[0m \u001b[39mprint\u001b[39m(\u001b[39m\"\u001b[39m\u001b[39mRotation Matrix: \u001b[39m\u001b[39m\"\u001b[39m, rotation)\n\u001b[0;32m     13\u001b[0m \u001b[39mprint\u001b[39m(\u001b[39m\"\u001b[39m\u001b[39mTranslation: \u001b[39m\u001b[39m\"\u001b[39m, translation)\n",
      "Cell \u001b[1;32mIn[27], line 43\u001b[0m, in \u001b[0;36micp\u001b[1;34m(A, B, max_iterations, tolerance)\u001b[0m\n\u001b[0;32m     40\u001b[0m distances, indices \u001b[39m=\u001b[39m KDTree(dst[\u001b[39m0\u001b[39m]\u001b[39m.\u001b[39mT)\u001b[39m.\u001b[39mquery(src[\u001b[39m0\u001b[39m]\u001b[39m.\u001b[39mT)\n\u001b[0;32m     42\u001b[0m \u001b[39m# Compute the transformation between the current source and nearest destination points\u001b[39;00m\n\u001b[1;32m---> 43\u001b[0m R, t \u001b[39m=\u001b[39m best_fit_transform(src[\u001b[39m0\u001b[39;49m]\u001b[39m.\u001b[39;49mT, dst[\u001b[39m0\u001b[39;49m, indices]\u001b[39m.\u001b[39;49mT)\n\u001b[0;32m     45\u001b[0m \u001b[39m# Update the current source\u001b[39;00m\n\u001b[0;32m     46\u001b[0m src[\u001b[39m0\u001b[39m] \u001b[39m=\u001b[39m np\u001b[39m.\u001b[39mdot(R, src[\u001b[39m0\u001b[39m]) \u001b[39m+\u001b[39m t\n",
      "Cell \u001b[1;32mIn[27], line 14\u001b[0m, in \u001b[0;36mbest_fit_transform\u001b[1;34m(A, B)\u001b[0m\n\u001b[0;32m     11\u001b[0m AA \u001b[39m=\u001b[39m A \u001b[39m-\u001b[39m centroid_A\n\u001b[0;32m     12\u001b[0m BB \u001b[39m=\u001b[39m B \u001b[39m-\u001b[39m centroid_B\n\u001b[1;32m---> 14\u001b[0m H \u001b[39m=\u001b[39m np\u001b[39m.\u001b[39;49mdot(AA\u001b[39m.\u001b[39;49mT, BB)\n\u001b[0;32m     16\u001b[0m U, S, Vt \u001b[39m=\u001b[39m np\u001b[39m.\u001b[39mlinalg\u001b[39m.\u001b[39msvd(H)\n\u001b[0;32m     18\u001b[0m R \u001b[39m=\u001b[39m np\u001b[39m.\u001b[39mdot(Vt\u001b[39m.\u001b[39mT, U\u001b[39m.\u001b[39mT)\n",
      "File \u001b[1;32m<__array_function__ internals>:200\u001b[0m, in \u001b[0;36mdot\u001b[1;34m(*args, **kwargs)\u001b[0m\n",
      "\u001b[1;31mValueError\u001b[0m: shapes (3,8) and (4,8) not aligned: 8 (dim 1) != 4 (dim 0)"
     ]
    }
   ],
   "source": [
    "import numpy as np\n",
    "from scipy.spatial import KDTree\n",
    "from scipy.spatial.transform import Rotation as R\n",
    "import math\n",
    "\n",
    "# Define the vertices for the cube and the tetrahedra point clouds\n",
    "cube = np.array([(0,0,0), (1,0,0), (1,1,0), (0,1,0), (0,0,1), (1,0,1), (1,1,1), (0,1,1)])\n",
    "tetrahedra = np.array([(0,0,0), (1,0,0), (0.5, math.sqrt(3)/2, 0), (0.5, math.sqrt(3)/6, math.sqrt(2/3))]) + 5\n",
    "\n",
    "# Run the ICP algorithm\n",
    "rotation, translation = icp(cube, tetrahedra)\n",
    "print(\"Rotation Matrix: \", rotation)\n",
    "print(\"Translation: \", translation)\n",
    "\n",
    "# Apply the ICP transformation to the tetrahedra\n",
    "aligned_tetrahedra = np.dot(rotation, tetrahedra.T).T + translation\n",
    "\n",
    "print('Aligned Tetrahedra Points:')\n",
    "print(aligned_tetrahedra)"
   ]
  },
  {
   "cell_type": "code",
   "execution_count": null,
   "metadata": {},
   "outputs": [],
   "source": [
    "from scipy.spatial.distance import directed_hausdorff\n",
    "import numpy as np\n",
    "\n",
    "def calculate_similarity(point_cloud1, point_cloud2):\n",
    "    # Convert the point clouds to numpy arrays\n",
    "    point_cloud1 = np.array(point_cloud1)\n",
    "    point_cloud2 = np.array(point_cloud2)\n",
    "\n",
    "    # Calculate the directed Hausdorff distances\n",
    "    hd1 = directed_hausdorff(point_cloud1, point_cloud2)[0]\n",
    "    hd2 = directed_hausdorff(point_cloud2, point_cloud1)[0]\n",
    "\n",
    "    # The Hausdorff distance is the maximum of these two distances\n",
    "    hausdorff_distance = max(hd1, hd2)\n",
    "\n",
    "    return hausdorff_distance\n",
    "\n",
    "# Example usage:\n",
    "point_cloud1 = [[0, 0, 0], [1, 1, 1], [2, 2, 2]]\n",
    "point_cloud2 = [[0, 0, 0], [1, 1, 1], [3, 3, 3]]\n",
    "print(calculate_similarity(point_cloud1, point_cloud2))"
   ]
  }
 ],
 "metadata": {
  "kernelspec": {
   "display_name": "venv",
   "language": "python",
   "name": "python3"
  },
  "language_info": {
   "codemirror_mode": {
    "name": "ipython",
    "version": 3
   },
   "file_extension": ".py",
   "mimetype": "text/x-python",
   "name": "python",
   "nbconvert_exporter": "python",
   "pygments_lexer": "ipython3",
   "version": "3.8.17"
  },
  "orig_nbformat": 4
 },
 "nbformat": 4,
 "nbformat_minor": 2
}
