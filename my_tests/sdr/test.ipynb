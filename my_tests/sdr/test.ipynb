{
 "cells": [
  {
   "cell_type": "code",
   "execution_count": 1,
   "metadata": {},
   "outputs": [],
   "source": [
    "import my_lib\n",
    "from my_lib.utils import TEST_DATA\n",
    "import pyvista as pv\n",
    "pv.set_jupyter_backend('trame')  "
   ]
  },
  {
   "cell_type": "code",
   "execution_count": 2,
   "metadata": {},
   "outputs": [
    {
     "name": "stdout",
     "output_type": "stream",
     "text": [
      "[0. 0. 0.]\n",
      "[[-0.5 -0.5 -0.5]\n",
      " [-0.5 -0.5  0.5]\n",
      " [-0.5  0.5 -0.5]\n",
      " [-0.5  0.5  0.5]\n",
      " [ 0.5 -0.5 -0.5]\n",
      " [ 0.5 -0.5  0.5]\n",
      " [ 0.5  0.5 -0.5]\n",
      " [ 0.5  0.5  0.5]]\n",
      "1.0\n",
      "[[ 0.  0. -1.]\n",
      " [-0. -1. -0.]\n",
      " [ 1.  0.  0.]\n",
      " [-1.  0.  0.]\n",
      " [-0.  1.  0.]\n",
      " [ 0.  0.  1.]]\n",
      "[1. 1. 1. 1. 1. 1.]\n",
      "[array([0, 2, 6, 4], dtype=int32), array([4, 5, 1, 0], dtype=int32), array([6, 7, 5, 4], dtype=int32), array([0, 1, 3, 2], dtype=int32), array([2, 3, 7, 6], dtype=int32), array([5, 7, 3, 1], dtype=int32)]\n",
      "[array([1, 2, 3, 4]), array([0, 2, 3, 5]), array([0, 1, 4, 5]), array([0, 1, 4, 5]), array([0, 2, 3, 5]), array([1, 2, 3, 4])]\n",
      "[[ 0.   0.  -0.5]\n",
      " [ 0.  -0.5  0. ]\n",
      " [ 0.5  0.   0. ]\n",
      " [-0.5  0.   0. ]\n",
      " [ 0.   0.5  0. ]\n",
      " [ 0.   0.   0.5]]\n"
     ]
    }
   ],
   "source": [
    "sdr=my_lib.sdr.SlopeDiagramRepresentation(verts=TEST_DATA['cube']['vertices'])\n",
    "\n",
    "print(sdr.center)\n",
    "print(sdr.verts)\n",
    "print(sdr.volume)\n",
    "print(sdr.normals)\n",
    "print(sdr.areas)\n",
    "print(sdr.faces)\n",
    "print(sdr.face_neighbors)\n",
    "print(sdr.face_centers)"
   ]
  },
  {
   "cell_type": "code",
   "execution_count": null,
   "metadata": {},
   "outputs": [
    {
     "ename": "",
     "evalue": "",
     "output_type": "error",
     "traceback": [
      "\u001b[1;31mCannot execute code, session has been disposed. Please try restarting the Kernel."
     ]
    },
    {
     "ename": "",
     "evalue": "",
     "output_type": "error",
     "traceback": [
      "\u001b[1;31mThe Kernel crashed while executing code in the the current cell or a previous cell. Please review the code in the cell(s) to identify a possible cause of the failure. Click <a href='https://aka.ms/vscodeJupyterKernelCrash'>here</a> for more info. View Jupyter <a href='command:jupyter.viewOutput'>log</a> for further details."
     ]
    }
   ],
   "source": [
    "poly = pv.PolyData(sdr.verts,faces=sdr.faces)\n",
    "p = pv.Plotter()\n",
    "p.add_mesh(poly)\n",
    "p.show()"
   ]
  }
 ],
 "metadata": {
  "kernelspec": {
   "display_name": "venv",
   "language": "python",
   "name": "python3"
  },
  "language_info": {
   "codemirror_mode": {
    "name": "ipython",
    "version": 3
   },
   "file_extension": ".py",
   "mimetype": "text/x-python",
   "name": "python",
   "nbconvert_exporter": "python",
   "pygments_lexer": "ipython3",
   "version": "3.8.17"
  },
  "orig_nbformat": 4
 },
 "nbformat": 4,
 "nbformat_minor": 2
}
